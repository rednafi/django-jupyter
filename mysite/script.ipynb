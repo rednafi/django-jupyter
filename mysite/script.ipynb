{
 "cells": [
  {
   "cell_type": "code",
   "execution_count": 3,
   "id": "1887a92c",
   "metadata": {},
   "outputs": [],
   "source": [
    "    from polls import models as polls_models\n",
    "    from datetime import datetime, timezone\n",
    "\n",
    "    choices = []\n",
    "\n",
    "    for question_text in (\"Are you okay?\", \"Do you wanna go there?\"):\n",
    "        question = polls_models.Question.objects.create(\n",
    "            question_text=question_text, pub_date=datetime.now(tz=timezone.utc)\n",
    "        )\n",
    "        question.choice_set.set(\n",
    "            polls_models.Choice.objects.create(choice_text=ctext)\n",
    "            for ctext in (\"yes\", \"no\")\n",
    "        )"
   ]
  },
  {
   "cell_type": "code",
   "execution_count": 4,
   "id": "ad32fe8b",
   "metadata": {},
   "outputs": [
    {
     "data": {
      "text/plain": [
       "<QuerySet [<Question: Are you okay?>, <Question: Do you wanna go there?>, <Question: Are you okay?>, <Question: Do you wanna go there?>]>"
      ]
     },
     "execution_count": 4,
     "metadata": {},
     "output_type": "execute_result"
    }
   ],
   "source": [
    "qs = polls_models.Question.objects.all()\n",
    "qs"
   ]
  },
  {
   "cell_type": "code",
   "execution_count": null,
   "id": "b53766cb",
   "metadata": {},
   "outputs": [],
   "source": []
  }
 ],
 "metadata": {
  "kernelspec": {
   "display_name": "Django Shell-Plus",
   "language": "python",
   "name": "django_extensions"
  },
  "language_info": {
   "codemirror_mode": {
    "name": "ipython",
    "version": 3
   },
   "file_extension": ".py",
   "mimetype": "text/x-python",
   "name": "python",
   "nbconvert_exporter": "python",
   "pygments_lexer": "ipython3",
   "version": "3.11.1"
  }
 },
 "nbformat": 4,
 "nbformat_minor": 5
}
